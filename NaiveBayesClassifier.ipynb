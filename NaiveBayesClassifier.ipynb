# This is a pure work done by Sudhanshu Ranjan | 20MEI10047
# For the course of Machine Learning in Cyber Security
# Define the dataset
dataset = [
    {"Attack Type": "Malware", "Firewall Status": "Blocked", "Malware Detected": "Yes", "Data Exfiltrated": "No"},
    {"Attack Type": "Phishing", "Firewall Status": "Allowed", "Malware Detected": "No", "Data Exfiltrated": "Yes"},
    {"Attack Type": "DDoS", "Firewall Status": "Blocked", "Malware Detected": "No", "Data Exfiltrated": "No"},
    {"Attack Type": "Ransomware", "Firewall Status": "Blocked", "Malware Detected": "Yes", "Data Exfiltrated": "No"},
    {"Attack Type": "Intrusion", "Firewall Status": "Blocked", "Malware Detected": "No", "Data Exfiltrated": "No"},
    {"Attack Type": "Malware", "Firewall Status": "Blocked", "Malware Detected": "Yes", "Data Exfiltrated": "Yes"},
    {"Attack Type": "Phishing", "Firewall Status": "Allowed", "Malware Detected": "No", "Data Exfiltrated": "No"},
    {"Attack Type": "DDoS", "Firewall Status": "Blocked", "Malware Detected": "No", "Data Exfiltrated": "No"},
    {"Attack Type": "Ransomware", "Firewall Status": "Blocked", "Malware Detected": "Yes", "Data Exfiltrated": "No"},
    {"Attack Type": "Intrusion", "Firewall Status": "Blocked", "Malware Detected": "No", "Data Exfiltrated": "No"},
    {"Attack Type": "Malware", "Firewall Status": "Blocked", "Malware Detected": "Yes", "Data Exfiltrated": "Yes"},
    {"Attack Type": "Phishing", "Firewall Status": "Allowed", "Malware Detected": "No", "Data Exfiltrated": "Yes"},
    {"Attack Type": "DDoS", "Firewall Status": "Blocked", "Malware Detected": "No", "Data Exfiltrated": "No"},
    {"Attack Type": "Ransomware", "Firewall Status": "Blocked", "Malware Detected": "Yes", "Data Exfiltrated": "Yes"},
    {"Attack Type": "Intrusion", "Firewall Status": "Blocked", "Malware Detected": "No", "Data Exfiltrated": "No"},
    {"Attack Type": "Phishing", "Firewall Status": "Blocked", "Malware Detected": "No", "Data Exfiltrated": "No"},
]

# Define the target condition
target_condition = {
    "Attack Type": "Malware",
    "Firewall Status": "Blocked",
    "Malware Detected": "No",
}

# Count occurrences of each value 
count_yes = 0
count_no = 0

for entry in dataset:
    if all(entry[key] == value for key, value in target_condition.items()):
        if entry["Data Exfiltrated"] == "Yes":
            count_yes += 1
        elif entry["Data Exfiltrated"] == "No":
            count_no += 1

# Make a prediction 
if count_yes > count_no:
    prediction = "Yes"
else:
    prediction = "No"

print("Predicted Data Exfiltrated:", prediction)
